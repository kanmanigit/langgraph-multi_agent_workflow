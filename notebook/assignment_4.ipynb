{
 "cells": [
  {
   "cell_type": "code",
   "execution_count": 29,
   "id": "fff4faaf",
   "metadata": {},
   "outputs": [],
   "source": [
    "from langchain_groq import ChatGroq\n",
    "from langchain.embeddings import HuggingFaceEmbeddings\n",
    "from langchain_chroma.vectorstores import Chroma\n",
    "from pydantic import BaseModel, Field\n",
    "from typing import TypedDict, Annotated, Sequence\n",
    "from langchain_core.messages import BaseMessage\n",
    "import operator\n",
    "from langchain_core.prompts import PromptTemplate\n",
    "from langchain_core.runnables import RunnablePassthrough, RunnableLambda\n",
    "from langchain_core.output_parsers import StrOutputParser, PydanticOutputParser\n",
    "\n",
    "from langchain_community.tools.tavily_search import TavilySearchResults\n",
    "\n",
    "from langgraph.graph import StateGraph,END"
   ]
  },
  {
   "cell_type": "code",
   "execution_count": 30,
   "id": "d692c66f",
   "metadata": {},
   "outputs": [],
   "source": [
    "# model\n",
    "llm = ChatGroq(model=\"llama-3.3-70b-versatile\")"
   ]
  },
  {
   "cell_type": "code",
   "execution_count": 31,
   "id": "0024181d",
   "metadata": {},
   "outputs": [],
   "source": [
    "# Embeddings\n",
    "embeddings = HuggingFaceEmbeddings(model_name=\"sentence-transformers/all-mpnet-base-v2\")\n",
    "\n",
    "# dimentionality of the input vector...feature representation of the above model\n",
    "len(embeddings.embed_query(\"helo\"))\n",
    "\n",
    "# load the data \n",
    "from langchain_community.document_loaders import DirectoryLoader, TextLoader\n",
    "loader = DirectoryLoader(\"../data\",glob=\"./*.txt\",loader_cls=TextLoader)\n",
    "text_docs =loader.load()\n",
    "text_docs\n",
    "\n",
    "# split the docs into chunks..\n",
    "from langchain.text_splitter import RecursiveCharacterTextSplitter\n",
    "text_splitter =RecursiveCharacterTextSplitter(\n",
    "    chunk_size=500,\n",
    "    chunk_overlap=50\n",
    ")\n",
    "\n",
    "chunks =text_splitter.split_documents(text_docs)\n",
    "\n",
    "# indexing automatically will be created in chroma db...\n",
    "\n",
    "db = Chroma.from_documents(\n",
    "    chunks,\n",
    "    embedding=embeddings\n",
    ")\n",
    "\n",
    "retriever = db.as_retriever(search_kwargs={\"k\":3})\n",
    "\n"
   ]
  },
  {
   "cell_type": "code",
   "execution_count": 32,
   "id": "cefdf910",
   "metadata": {},
   "outputs": [],
   "source": [
    "# create pydantic class\n",
    "class InputCategoryParser(BaseModel):\n",
    "    category: str=Field(description=\"selected category\")\n",
    "    Reasoning: str=Field(description=\"Reasoning behind the selected category\")\n",
    "\n",
    "# outputparser\n",
    "parser = PydanticOutputParser(pydantic_object=InputCategoryParser)"
   ]
  },
  {
   "cell_type": "code",
   "execution_count": 33,
   "id": "c0402838",
   "metadata": {},
   "outputs": [],
   "source": [
    "class AgentState(TypedDict):\n",
    "    messages: Annotated[Sequence[BaseMessage],operator.add]"
   ]
  },
  {
   "cell_type": "code",
   "execution_count": 34,
   "id": "7ceecdc8",
   "metadata": {},
   "outputs": [],
   "source": [
    "workflow =StateGraph(AgentState)\n"
   ]
  },
  {
   "cell_type": "code",
   "execution_count": 35,
   "id": "fbebf291",
   "metadata": {},
   "outputs": [],
   "source": [
    "def Supervisor_node(state:AgentState):\n",
    "    question = state[\"messages\"][-1]\n",
    "    print(\"Question:\",question)\n",
    "\n",
    "    template=\"\"\"your task is to classify the given query into one of the following categories: [USA GDP, Not Related, Real Time]. \n",
    "    User query: {question} {format_instructions}\n",
    "    \"\"\"\n",
    "    prompt =PromptTemplate(\n",
    "        template=template,\n",
    "        input_variables=[\"question\"],\n",
    "        partial_variables={\"format_instructions\":parser.get_format_instructions()}\n",
    "    )\n",
    "    \n",
    "\n",
    "    chain = prompt| llm | parser\n",
    "\n",
    "    response = chain.invoke({\"question\":question})\n",
    "\n",
    "    print(\"Parsed Response is :\",response)\n",
    "\n",
    "    return{\"messages\": [response.category]}"
   ]
  },
  {
   "cell_type": "code",
   "execution_count": 36,
   "id": "fbb27fa3",
   "metadata": {},
   "outputs": [
    {
     "name": "stdout",
     "output_type": "stream",
     "text": [
      "Question: what is a GDP of USA\n",
      "Parsed Response is : category='USA GDP' Reasoning=\"The query directly mentions 'GDP of USA', which indicates that the user is seeking information about the Gross Domestic Product of the United States.\"\n"
     ]
    },
    {
     "data": {
      "text/plain": [
       "{'messages': ['USA GDP']}"
      ]
     },
     "execution_count": 36,
     "metadata": {},
     "output_type": "execute_result"
    }
   ],
   "source": [
    "state ={\"messages\":[\"what is a GDP of USA\"]}\n",
    "\n",
    "Supervisor_node(state)"
   ]
  },
  {
   "cell_type": "code",
   "execution_count": 37,
   "id": "e12e146d",
   "metadata": {},
   "outputs": [
    {
     "name": "stdout",
     "output_type": "stream",
     "text": [
      "Question: what is langchain?\n",
      "Parsed Response is : category='Not Related' Reasoning=\"The query 'what is langchain?' does not contain any information related to USA GDP or real-time data, therefore it is classified as 'Not Related'.\"\n"
     ]
    },
    {
     "data": {
      "text/plain": [
       "{'messages': ['Not Related']}"
      ]
     },
     "execution_count": 37,
     "metadata": {},
     "output_type": "execute_result"
    }
   ],
   "source": [
    "state ={\"messages\":[\"what is langchain?\"]}\n",
    "\n",
    "Supervisor_node(state)"
   ]
  },
  {
   "cell_type": "code",
   "execution_count": 38,
   "id": "85e52196",
   "metadata": {},
   "outputs": [],
   "source": [
    "def router(state: AgentState):\n",
    "    print(\"---> Router --->\")\n",
    "    \n",
    "    category = state[\"messages\"][-1]  \n",
    "    print(\"Parsed category:\", category)\n",
    "\n",
    "    if category == \"USA GDP\":\n",
    "        return \"RAG Call\"\n",
    "    elif category == \"Not Related\":\n",
    "        return \"LLM Call\"\n",
    "    else:\n",
    "        return \"WebCrawler Call\""
   ]
  },
  {
   "cell_type": "code",
   "execution_count": 39,
   "id": "c01c94b2",
   "metadata": {},
   "outputs": [],
   "source": [
    "def LLM_node(state:AgentState):\n",
    "    # LLM function\n",
    "    print(\"---> LLM call --->\")\n",
    "    question = state[\"messages\"][0]   # passing the first message (question) to the LLM\n",
    "    # Normal LLM call \n",
    "    query = \"Anwer the following question with your knowlwdge of the real world. Following of the user question:\" + question\n",
    "    response = llm.invoke(query)\n",
    "    return {\"messages\": [response.content]}\n",
    "    "
   ]
  },
  {
   "cell_type": "code",
   "execution_count": 40,
   "id": "2bb8be35",
   "metadata": {},
   "outputs": [],
   "source": [
    "def format_docs(docs):\n",
    "    return(\"\\n\\n\".join(doc.page_content for doc in docs))"
   ]
  },
  {
   "cell_type": "code",
   "execution_count": 41,
   "id": "a2afbf3e",
   "metadata": {},
   "outputs": [],
   "source": [
    "def RAG_node(state:AgentState):\n",
    "    print(\"---> RAG call --->\")\n",
    "\n",
    "    question =state[\"messages\"][0]\n",
    "\n",
    "    prompt = PromptTemplate(\n",
    "        template=\"\"\" You are an assistant for question-answering tasks. Use the following pices of retrieved context to answer the question.if you don't know the answer, just say you dont know. Use three sentences maximum and keep the answer concise. \\n Question: {question} \\n context: {context} \\nAnswer:\"\"\",\n",
    "\n",
    "        input_variables=[\"context\",\"question\"]\n",
    "    )\n",
    "\n",
    "    rag_chain =(\n",
    "        {\n",
    "        \"context\":retriever \n",
    "        | format_docs,\"question\":RunnablePassthrough() }\n",
    "        | prompt\n",
    "        | llm\n",
    "        | StrOutputParser())\n",
    "\n",
    "    result =rag_chain.invoke(question)\n",
    "    return {\"messages\":[result]}"
   ]
  },
  {
   "cell_type": "code",
   "execution_count": null,
   "id": "33746497",
   "metadata": {},
   "outputs": [],
   "source": [
    "def WebCrawler_node(state:AgentState):\n",
    "    # webcrawler function\n",
    "    tool = TavilySearchResults()\n",
    "    \n",
    "    print(\"---> WebCrawler call --->\")\n",
    "    question = state[\"messages\"][0]   # passing the first message (question) to the LLM\n",
    "     \n",
    "    query = \"Anwer the following question with your knowlwdge of the real world. Following of the user question:\" + question\n",
    "    response = tool.invoke(query)\n",
    "    content= []\n",
    "    for r in response:\n",
    "        content.append(r.get(\"content\"))\n",
    "    \n",
    "    return {\"messages\": [content]}\n",
    "    #return {\"messages\": [response]}\n",
    "    \n",
    "    \n",
    "    "
   ]
  },
  {
   "cell_type": "code",
   "execution_count": 57,
   "id": "22396ce1",
   "metadata": {},
   "outputs": [
    {
     "name": "stdout",
     "output_type": "stream",
     "text": [
      "---> WebCrawler call --->\n"
     ]
    },
    {
     "data": {
      "text/plain": [
       "{'messages': [['An Air India flight en route to London carrying 242 passengers and crew crashed shortly after taking off from the western city of Ahmedabad in India’s Guajarat state earlier today.\\n\\n*Here’s* [*what we know*](https://www.cnn.com/2025/06/12/india/air-india-plane-crash-intl?cid=ios_app) *so far about the crash:* [...] **Timeline:** According to aviation tracker Flightradar24, Air India Flight 171, a Boeing 787-8 Dreamliner, departed from Ahmedabad International airport at 1:38 p.m. local time (4:08 a.m. ET) with a destination of London Gatwick Airport. The aircraft’s signal was lost less than a minute later, at an altitude of 625 feet. [...] **All aboard the plane except one died:** Air India confirmed in a statement that of the 242 people on board its plane, all but one died. That’s [241 confirmed fatalities](https://www.cnn.com/world/live-news/ahmedabad-india-plane-crash-06-12-25#cmbtnbciu00003b6ssybftu06) from just the plane. The flight was carrying 230 passengers and 12 crew members. The passengers comprised 169 Indian nationals, 53 British nationals, 7 Portuguese nationals and 1 Canadian national.',\n",
       "   '![](https://media-cldnry.s-nbcnews.com/image/upload/t_focal-60x60,f_auto,q_auto:best/newscms/2022_28/3562183/melissa-chan-byline-2022.jpg)\\n\\nMelissa Chan\\n\\nA plane carrying 242 people crashed near a major international airport in the western Indian city of Ahmedabad shortly after takeoff yesterday, killing all but one passenger, who was seen walking away from the crash with bruises on his arms. [...] Air India Flight 379, which left the Thai island of Phuket this morning en route to New Delhi, landed back on the island shortly after takeoff, according to flight tracker Flightradar24. All 156 passengers were escorted from the plane as is standard in emergencies, Reuters reported, citing an Airports of Thailand official. [...] “Nobody really knows what happened yet,” said Trevor Bock, a safety consultant at Aviation Safety Asia. “It’s all speculation until there’s an investigation.”\\n\\n“What seems to have happened is the aircraft took off and it climbed to 620 feet with the undercarriage down, and then started to sink and just continued to sink,” Bock told NBC News today in a phone interview. “It’s a bit unusual to still have the undercarriage down at that altitude.”',\n",
       "   'We are following reports of a crash of Air India flight #AI171 from Ahmedabad to London. We received the last signal from the aircraft at 08:08',\n",
       "   '**Separately, an Air India flight from Phuket in Thailand to Delhi made an emergency landing due to a bomb threat.** The flight had 156 passengers on board, and the plane landed safely and was being checked by security at Phuket International Airport.\\n\\nInvestigators from **India**, the **UK** and the **US** have arrived to probe the crash and Tata will be fully transparent about the findings, Tata Chairman **Natarajan Chandrasekaran** said in an internal memo seen by Reuters. [...] “Commending the souls of the deceased to the mercy of the Almighty, His Holiness invokes upon all affected the divine blessings of healing and peace,” they added.\\n\\nIt is still not known what caused Air India flight AI171 to crash on Thursday. There is plenty of conjecture, with theories ranging from an extraordinarily rare twin-engine failure, a bird strike and malfunctioning wing flaps. [...] **Lindy Cameron**, the British High Commissioner in India, met Indian prime minister Narendra Modi today to offer the UK’s condolences and support in the investigation.\\n\\nIndian media outlets have reported that India may ground Boeing 787 flights following the **Ahmedabad** crash. Yesterday’s crash was the first involving a Boeing 787.\\n\\nThe BBC has received a response from Air India, saying: “This is not the case, at this point in time at least.”',\n",
       "   'An Air India Boeing 787-8 passenger jet carrying 242 people bound for London crashed into a residential area Thursday, less than a minute']]}"
      ]
     },
     "execution_count": 57,
     "metadata": {},
     "output_type": "execute_result"
    }
   ],
   "source": [
    "state={\"messages\":[\"what happeend to the AirIndia flight yesterday?\"]}\n",
    "WebCrawler_node(state)"
   ]
  },
  {
   "cell_type": "code",
   "execution_count": 44,
   "id": "53345a4c",
   "metadata": {},
   "outputs": [],
   "source": [
    "\n",
    "def Validation_node(state: AgentState) -> AgentState:\n",
    "    print(\"---> Validation Node <----\")\n",
    "\n",
    "    user_question = state[\"messages\"][0]\n",
    "    llm_response = state[\"messages\"][-1]\n",
    "\n",
    "    prompt = PromptTemplate(\n",
    "        template=\"\"\"You are an assistant to validate the response produced by an LLM.\n",
    "            Use the following response and validate it against the user query.\n",
    "            If the response is helpful and correct, return YES. Otherwise, return NO.\n",
    "            Question: {user_question}\n",
    "            Response: {llm_response}\"\"\",\n",
    "            \n",
    "        input_variables=[\"user_question\", \"llm_response\"]\n",
    "    )\n",
    "\n",
    "    llm = ChatGroq(model=\"llama-3.3-70b-versatile\")\n",
    "    chain = prompt | llm | StrOutputParser()\n",
    "\n",
    "    result = chain.invoke({\n",
    "        \"user_question\": user_question,\n",
    "        \"llm_response\": llm_response\n",
    "    })\n",
    "\n",
    "    print(f\"[Validation Result] Raw output: {result}\")\n",
    "\n",
    "    is_valid = \"yes\" in result.strip().lower()\n",
    "\n",
    "    return {**state, \"valid\": is_valid}\n"
   ]
  },
  {
   "cell_type": "code",
   "execution_count": 45,
   "id": "ad584107",
   "metadata": {},
   "outputs": [
    {
     "data": {
      "text/plain": [
       "<langgraph.graph.state.StateGraph at 0x16dae7ed0>"
      ]
     },
     "execution_count": 45,
     "metadata": {},
     "output_type": "execute_result"
    }
   ],
   "source": [
    "# Nodes\n",
    "workflow.add_node(\"SuperVisor\",Supervisor_node)\n",
    "workflow.add_node(\"LLM\",LLM_node)\n",
    "workflow.add_node(\"RAG\",RAG_node)\n",
    "workflow.add_node(\"WebCrawler\",WebCrawler_node)\n",
    "workflow.add_node(\"Validation\",Validation_node)\n",
    "\n",
    "#workflow.add_node(\"Router\",router_node)\n"
   ]
  },
  {
   "cell_type": "code",
   "execution_count": 46,
   "id": "6680f1d7",
   "metadata": {},
   "outputs": [
    {
     "data": {
      "text/plain": [
       "<langgraph.graph.state.StateGraph at 0x16dae7ed0>"
      ]
     },
     "execution_count": 46,
     "metadata": {},
     "output_type": "execute_result"
    }
   ],
   "source": [
    "workflow.set_entry_point(\"SuperVisor\")"
   ]
  },
  {
   "cell_type": "code",
   "execution_count": 47,
   "id": "a03d8283",
   "metadata": {},
   "outputs": [
    {
     "data": {
      "text/plain": [
       "<langgraph.graph.state.StateGraph at 0x16dae7ed0>"
      ]
     },
     "execution_count": 47,
     "metadata": {},
     "output_type": "execute_result"
    }
   ],
   "source": [
    "# Add Edges\n",
    "workflow.add_conditional_edges(\n",
    "    \"SuperVisor\",\n",
    "    router,\n",
    "    {\n",
    "        \"RAG Call\": \"RAG\",\n",
    "        \"LLM Call\": \"LLM\",\n",
    "        \"WebCrawler Call\": \"WebCrawler\"\n",
    "    }\n",
    ")"
   ]
  },
  {
   "cell_type": "code",
   "execution_count": 48,
   "id": "5477fa6d",
   "metadata": {},
   "outputs": [
    {
     "data": {
      "text/plain": [
       "<langgraph.graph.state.StateGraph at 0x16dae7ed0>"
      ]
     },
     "execution_count": 48,
     "metadata": {},
     "output_type": "execute_result"
    }
   ],
   "source": [
    "workflow.add_edge(\"LLM\",\"Validation\")\n",
    "workflow.add_edge(\"RAG\",\"Validation\")\n",
    "workflow.add_edge(\"WebCrawler\",\"Validation\")"
   ]
  },
  {
   "cell_type": "code",
   "execution_count": 49,
   "id": "94a4bfb3",
   "metadata": {},
   "outputs": [
    {
     "data": {
      "text/plain": [
       "<langgraph.graph.state.StateGraph at 0x16dae7ed0>"
      ]
     },
     "execution_count": 49,
     "metadata": {},
     "output_type": "execute_result"
    }
   ],
   "source": [
    "workflow.add_edge(\"Validation\",END)"
   ]
  },
  {
   "cell_type": "code",
   "execution_count": 50,
   "id": "c2418cc9",
   "metadata": {},
   "outputs": [
    {
     "data": {
      "image/png": "[encoded data removed]",
      "text/plain": [
       "<langgraph.graph.state.CompiledStateGraph object at 0x16dae7c50>"
      ]
     },
     "execution_count": 50,
     "metadata": {},
     "output_type": "execute_result"
    }
   ],
   "source": [
    "workflow.compile()"
   ]
  },
  {
   "cell_type": "code",
   "execution_count": 51,
   "id": "10a3db48",
   "metadata": {},
   "outputs": [],
   "source": [
    "app= workflow.compile()"
   ]
  },
  {
   "cell_type": "code",
   "execution_count": 52,
   "id": "a71e1827",
   "metadata": {},
   "outputs": [
    {
     "name": "stdout",
     "output_type": "stream",
     "text": [
      "Question: what is the GDP of USA?\n",
      "Parsed Response is : category='USA GDP' Reasoning=\"The user query explicitly mentions 'GDP of USA', which directly corresponds to the 'USA GDP' category.\"\n",
      "---> Router --->\n",
      "Parsed category: USA GDP\n",
      "---> RAG call --->\n",
      "---> Validation Node <----\n",
      "[Validation Result] Raw output: YES. \n",
      "\n",
      "The response provides a specific estimate of the GDP of the USA, along with its global ranking and a brief explanation of its significance in the global economy, which directly addresses the user's query.\n"
     ]
    },
    {
     "data": {
      "text/plain": [
       "{'messages': ['what is the GDP of USA?',\n",
       "  'USA GDP',\n",
       "  'The GDP of the USA is estimated to be around $28 trillion USD as of 2024. This accounts for approximately 25% of the global economy, ranking the US as the largest economy in the world. The US nominal GDP is considered more reflective of actual economic size.',\n",
       "  'what is the GDP of USA?',\n",
       "  'USA GDP',\n",
       "  'The GDP of the USA is estimated to be around $28 trillion USD as of 2024. This accounts for approximately 25% of the global economy, ranking the US as the largest economy in the world. The US nominal GDP is considered more reflective of actual economic size.']}"
      ]
     },
     "execution_count": 52,
     "metadata": {},
     "output_type": "execute_result"
    }
   ],
   "source": [
    "\n",
    "state={\"messages\":[\"what is the GDP of USA?\"]}\n",
    "\n",
    "app.invoke(state)"
   ]
  },
  {
   "cell_type": "code",
   "execution_count": 53,
   "id": "1966d850",
   "metadata": {},
   "outputs": [
    {
     "name": "stdout",
     "output_type": "stream",
     "text": [
      "Question: what is the today's news in AirIndia flight?\n",
      "Parsed Response is : category='Not Related' Reasoning='The query is asking about news related to AirIndia flight, which is not related to USA GDP or Real Time data.'\n",
      "---> Router --->\n",
      "Parsed category: Not Related\n",
      "---> LLM call --->\n",
      "---> Validation Node <----\n",
      "[Validation Result] Raw output: NO.\n",
      "\n",
      "The response does not provide today's news about Air India flights as requested by the user. It provides general information about how to find the latest news and some outdated information about Air India's developments as of 2023. The response explicitly states that it does not have real-time information, which makes it unhelpful in answering the user's question about current news.\n"
     ]
    },
    {
     "data": {
      "text/plain": [
       "{'messages': [\"what is the today's news in AirIndia flight?\",\n",
       "  'Not Related',\n",
       "  \"As of my knowledge cutoff in 2023, I don't have real-time information. However, I can provide some general information about Air India.\\n\\nTo get the latest news about Air India flights, I recommend checking reputable news sources such as:\\n\\n1. Air India's official website (airindia.in) for updates on flight schedules, cancellations, or disruptions.\\n2. News websites like BBC, CNN, or Indian news outlets like The Times of India, Hindustan Times, or The Indian Express.\\n3. Social media platforms like Twitter, where you can follow Air India's official handle (@airindia) or hashtags related to the airline.\\n\\nSome recent developments in Air India that I'm aware of include:\\n\\n* Air India's plans to expand its fleet and routes, including the introduction of new aircraft and the resumption of flights to certain destinations.\\n* The airline's efforts to improve its services, including the introduction of new in-flight entertainment systems and enhanced meal options.\\n* Air India's response to the COVID-19 pandemic, including measures to ensure passenger safety and minimize disruptions to its operations.\\n\\nPlease note that my information may not be up-to-date, and I recommend checking the sources mentioned above for the latest news on Air India flights.\",\n",
       "  \"what is the today's news in AirIndia flight?\",\n",
       "  'Not Related',\n",
       "  \"As of my knowledge cutoff in 2023, I don't have real-time information. However, I can provide some general information about Air India.\\n\\nTo get the latest news about Air India flights, I recommend checking reputable news sources such as:\\n\\n1. Air India's official website (airindia.in) for updates on flight schedules, cancellations, or disruptions.\\n2. News websites like BBC, CNN, or Indian news outlets like The Times of India, Hindustan Times, or The Indian Express.\\n3. Social media platforms like Twitter, where you can follow Air India's official handle (@airindia) or hashtags related to the airline.\\n\\nSome recent developments in Air India that I'm aware of include:\\n\\n* Air India's plans to expand its fleet and routes, including the introduction of new aircraft and the resumption of flights to certain destinations.\\n* The airline's efforts to improve its services, including the introduction of new in-flight entertainment systems and enhanced meal options.\\n* Air India's response to the COVID-19 pandemic, including measures to ensure passenger safety and minimize disruptions to its operations.\\n\\nPlease note that my information may not be up-to-date, and I recommend checking the sources mentioned above for the latest news on Air India flights.\"]}"
      ]
     },
     "execution_count": 53,
     "metadata": {},
     "output_type": "execute_result"
    }
   ],
   "source": [
    "state={\"messages\":[\"what is the today's news in AirIndia flight?\"]}\n",
    "app.invoke(state)"
   ]
  },
  {
   "cell_type": "code",
   "execution_count": 54,
   "id": "7a2b295e",
   "metadata": {},
   "outputs": [
    {
     "name": "stdout",
     "output_type": "stream",
     "text": [
      "Question: what is langgraph\n",
      "Parsed Response is : category='Not Related' Reasoning=\"The query 'what is langgraph' does not contain any information related to USA GDP or Real Time data, so it is classified as Not Related.\"\n",
      "---> Router --->\n",
      "Parsed category: Not Related\n",
      "---> LLM call --->\n",
      "---> Validation Node <----\n",
      "[Validation Result] Raw output: YES. The response is helpful and correct, providing a clear and detailed explanation of what LangGraph is, its architecture, features, and potential applications. It effectively addresses the user's query and provides relevant information about the topic.\n"
     ]
    },
    {
     "data": {
      "text/plain": [
       "{'messages': ['what is langgraph',\n",
       "  'Not Related',\n",
       "  \"LangGraph is an open-source, AI-powered language model developed by the LangGraph team. It's designed to process and generate human-like language, similar to other large language models like LLaMA, BERT, and transformers.\\n\\nLangGraph uses a graph-based architecture, which allows it to represent language as a complex network of interconnected concepts, entities, and relationships. This approach enables the model to capture nuanced linguistic structures, context, and semantics, making it suitable for a wide range of natural language processing (NLP) tasks, such as:\\n\\n1. Text generation\\n2. Language translation\\n3. Question answering\\n4. Sentiment analysis\\n5. Text summarization\\n\\nThe key features of LangGraph include:\\n\\n1. **Graph-based architecture**: LangGraph represents language as a graph, where nodes represent words, concepts, or entities, and edges represent relationships between them.\\n2. **Multitask learning**: The model is trained on multiple NLP tasks simultaneously, allowing it to develop a more comprehensive understanding of language.\\n3. **Large-scale training data**: LangGraph is trained on massive amounts of text data, which enables it to learn patterns, relationships, and structures of language.\\n\\nLangGraph has many potential applications, including:\\n\\n1. **Chatbots and virtual assistants**: LangGraph can be used to power conversational AI systems that can understand and respond to user queries.\\n2. **Content generation**: The model can be used to generate high-quality content, such as articles, blog posts, or social media posts.\\n3. **Language translation**: LangGraph can be fine-tuned for language translation tasks, enabling more accurate and nuanced translations.\\n\\nOverall, LangGraph is an innovative language model that has the potential to revolutionize the field of NLP and enable more sophisticated and human-like language understanding and generation capabilities.\",\n",
       "  'what is langgraph',\n",
       "  'Not Related',\n",
       "  \"LangGraph is an open-source, AI-powered language model developed by the LangGraph team. It's designed to process and generate human-like language, similar to other large language models like LLaMA, BERT, and transformers.\\n\\nLangGraph uses a graph-based architecture, which allows it to represent language as a complex network of interconnected concepts, entities, and relationships. This approach enables the model to capture nuanced linguistic structures, context, and semantics, making it suitable for a wide range of natural language processing (NLP) tasks, such as:\\n\\n1. Text generation\\n2. Language translation\\n3. Question answering\\n4. Sentiment analysis\\n5. Text summarization\\n\\nThe key features of LangGraph include:\\n\\n1. **Graph-based architecture**: LangGraph represents language as a graph, where nodes represent words, concepts, or entities, and edges represent relationships between them.\\n2. **Multitask learning**: The model is trained on multiple NLP tasks simultaneously, allowing it to develop a more comprehensive understanding of language.\\n3. **Large-scale training data**: LangGraph is trained on massive amounts of text data, which enables it to learn patterns, relationships, and structures of language.\\n\\nLangGraph has many potential applications, including:\\n\\n1. **Chatbots and virtual assistants**: LangGraph can be used to power conversational AI systems that can understand and respond to user queries.\\n2. **Content generation**: The model can be used to generate high-quality content, such as articles, blog posts, or social media posts.\\n3. **Language translation**: LangGraph can be fine-tuned for language translation tasks, enabling more accurate and nuanced translations.\\n\\nOverall, LangGraph is an innovative language model that has the potential to revolutionize the field of NLP and enable more sophisticated and human-like language understanding and generation capabilities.\"]}"
      ]
     },
     "execution_count": 54,
     "metadata": {},
     "output_type": "execute_result"
    }
   ],
   "source": [
    "state={\"messages\":[\"what is langgraph\"]}\n",
    "app.invoke(state)"
   ]
  },
  {
   "cell_type": "code",
   "execution_count": 55,
   "id": "b866e9e4",
   "metadata": {},
   "outputs": [
    {
     "name": "stdout",
     "output_type": "stream",
     "text": [
      "Question: where is Liberty of statue?\n",
      "Parsed Response is : category='Not Related' Reasoning=\"The query is asking about the location of the Statue of Liberty, which is a geographical question and does not relate to the USA's GDP or Real Time information.\"\n",
      "---> Router --->\n",
      "Parsed category: Not Related\n",
      "---> LLM call --->\n",
      "---> Validation Node <----\n",
      "[Validation Result] Raw output: YES.\n"
     ]
    },
    {
     "data": {
      "text/plain": [
       "{'messages': ['where is Liberty of statue?',\n",
       "  'Not Related',\n",
       "  'The Statue of Liberty is located in New York City, United States. Specifically, it is situated on Liberty Island in New York Harbor, within the state of New York. The statue was a gift from the people of France to the people of the United States and was dedicated on October 28, 1886. It has since become one of the most iconic symbols of American freedom and democracy.',\n",
       "  'where is Liberty of statue?',\n",
       "  'Not Related',\n",
       "  'The Statue of Liberty is located in New York City, United States. Specifically, it is situated on Liberty Island in New York Harbor, within the state of New York. The statue was a gift from the people of France to the people of the United States and was dedicated on October 28, 1886. It has since become one of the most iconic symbols of American freedom and democracy.']}"
      ]
     },
     "execution_count": 55,
     "metadata": {},
     "output_type": "execute_result"
    }
   ],
   "source": [
    "state = {\"messages\": [\"where is Liberty of statue?\"]}\n",
    "app.invoke(state)"
   ]
  },
  {
   "cell_type": "code",
   "execution_count": 56,
   "id": "9e7716cf",
   "metadata": {},
   "outputs": [
    {
     "name": "stdout",
     "output_type": "stream",
     "text": [
      "Question: where is Tajmahal?\n",
      "Parsed Response is : category='Not Related' Reasoning='The query is about the location of the Taj Mahal, which is not related to USA GDP or real-time information.'\n",
      "---> Router --->\n",
      "Parsed category: Not Related\n",
      "---> LLM call --->\n",
      "---> Validation Node <----\n",
      "[Validation Result] Raw output: YES.\n"
     ]
    },
    {
     "data": {
      "text/plain": [
       "{'messages': ['where is Tajmahal?',\n",
       "  'Not Related',\n",
       "  'The Taj Mahal is located in Agra, Uttar Pradesh, India. It is situated on the southern bank of the Yamuna River, about 230 kilometers (143 miles) south of New Delhi, the capital city of India. The Taj Mahal is one of the most famous and iconic monuments in the world, and it is considered a symbol of love and beauty. It was built by Mughal Emperor Shah Jahan in memory of his wife, Mumtaz Mahal, and it is now a UNESCO World Heritage Site.',\n",
       "  'where is Tajmahal?',\n",
       "  'Not Related',\n",
       "  'The Taj Mahal is located in Agra, Uttar Pradesh, India. It is situated on the southern bank of the Yamuna River, about 230 kilometers (143 miles) south of New Delhi, the capital city of India. The Taj Mahal is one of the most famous and iconic monuments in the world, and it is considered a symbol of love and beauty. It was built by Mughal Emperor Shah Jahan in memory of his wife, Mumtaz Mahal, and it is now a UNESCO World Heritage Site.']}"
      ]
     },
     "execution_count": 56,
     "metadata": {},
     "output_type": "execute_result"
    }
   ],
   "source": [
    "state = {\"messages\": [\"where is Tajmahal?\"]}\n",
    "app.invoke(state)"
   ]
  },
  {
   "cell_type": "code",
   "execution_count": null,
   "id": "0cda0ef5",
   "metadata": {},
   "outputs": [],
   "source": []
  }
 ],
 "metadata": {
  "kernelspec": {
   "display_name": "Python 3",
   "language": "python",
   "name": "python3"
  },
  "language_info": {
   "codemirror_mode": {
    "name": "ipython",
    "version": 3
   },
   "file_extension": ".py",
   "mimetype": "text/x-python",
   "name": "python",
   "nbconvert_exporter": "python",
   "pygments_lexer": "ipython3",
   "version": "3.13.3"
  }
 },
 "nbformat": 4,
 "nbformat_minor": 5
}
